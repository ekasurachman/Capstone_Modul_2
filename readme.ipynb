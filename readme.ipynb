{
 "cells": [
  {
   "cell_type": "markdown",
   "metadata": {},
   "source": [
    "Dataset Supermarket customer.csv dengan total 29 kolom dan 2240 baris. Berikut adalah beberapa informasi penting dari data ini:\n",
    "Pada proses Data Preprocessing \n",
    "Terdapat missing value yaitu kolom Income sebanyak 24 row, setelah itu diberikan treatment dropna\n",
    "Sudah dipastikan tidak ada data duplikat melalui coding df.duplicated().sum() dengan hasil np.int64(0)\n",
    "Pada detail data terdapat data yang anomali pada kolom Education (Graduation, PhD, Master, Basic, 2n Cycle) dan Status Marital (Single, Together, Married, Divorced, Widow, Alone, Absurd, YOLO) sehingga melalui data formatting diperbaiki untuk Pendidikan menjadi Graduation, PhD, Master, Basic (untuk 2nCycle dimasukan kategori Mater) dan untuk Status Marital untuk kategori Single terdiri atas alone, YOLO, Absurd, Together sedangan untuk Married terdiri atas Divorced dan Widow\n",
    "Untuk data formating dilakukan juga kepada kolom Dt_Customer, kolom tersebut diubah tipe datanya menjadi datetime dan formatnya disesuaikan.\n",
    "Nilai Pendapatan yang Tinggi (Anomali): Terdapat pendapatan maksimum yang sangat tinggi (666,666) dan kisaran penghasilan diatas 15.7243, yang tampaknya adalah anomali, sehingga diberikan treatment outlier\n",
    "Kolom Usia atau age dibuat dengan mengurangi tahun sekarang dengan tahun kelahiran customer, dan dikategorikan menjadi 4 kategori, antara lain kategori 1: 28-40, kategori 2:41-50, kategori 3: 51-60, dan kategori 4:60 tahun ke atas, hal tersebut diperlukan untuk melakukan analisa dengan data yang lainnya\n",
    "Kolom Total Spending dibuat untuk mengetahui jumlah produk yang dibeli oleh customer\n",
    "\n",
    "Berdasarkan kegiatan Setting dapat diketahui data framming, antara lain\n",
    "Jumlah pembelian berdasarkan kategori produk\n",
    "Jumlah pembelian per bulan\n",
    "Kampanye Respon dari customer (7.5%) yang dikategorikan menjadi High Response : 236 Customer dan Low Responders : 1603 customers\n",
    "Ditampilkan data penghasilan berdasarkan pendidikan\n",
    "Jumlah customer berdasarkan pendidikan dan jumlah customer berdasarkan kategori usia sehingga dapat diketahui boxplot usia berdasarkan pendidikan\n",
    "Data pendapatan berdasarkan kategori usia\n",
    "\n",
    "Sehingga dari Rissing Insight ditampilkan\n",
    "Data Pembelian berdasarkan pendidikan\n",
    "Data pembelian berdasarkan usia\n",
    "Data pembelian berdasarkan status pernikahan\n",
    "Data pembelian dengan platform tertentu berdasarkan pendidikan\n",
    "Data pembelian dengan platform tertentu berdasarkan usia\n",
    "Data pembelian dengan platform tertentu berdasarkan status pernikahan\n",
    "Data melalui statistika inferensial\n",
    "\n",
    "Pada AHA Moment dikelompokkan menjadi Reguler Value dan High Value threshold\n",
    "\n",
    "Actionable yang direkomendasikan dengan strategi-strategi berikut ini :\n",
    "1.\tPosting Reguler dan Interaktif serta terjadwal secara rutin dan konsisten serta interaktif sesuai dengan Strategi Relevansi Teori, Claude Shannon dan Warren Weaver, 1948\n",
    "2.\tMenanggapi umpan balik. Strategi Komunikasi dua arah  (Two Way Communication Theory) yang menganggap komunikasi sebagai proses dua arah di mana kedua belah pihak bertukar pesan dan umpan balik, Wilbur Schramm, 1954\n",
    "3.\tBeberapa produk tinggi tingkat penjualan, sehingga terjadi tidak adanya pemerataan produk penjualan, oleh karena itu cocok menggunakan strategi Produk Komplementer (Bundling), Stremersch dan Tellis, 2002\n",
    "4.\tRespons Pelanggan terhadap Kampanye, menunjukkan respons rendah untuk sebagian besar kampanye, Lakukan segmentasi pelanggan untuk menargetkan kampanye secara lebih efektif, misalnya berdasarkan preferensi atau kebiasaan belanja yang diidentifikasi sebelumnya, Strategi Behavioral Segmentation, Kotler, 2015\n",
    "\n",
    "\n"
   ]
  }
 ],
 "metadata": {
  "language_info": {
   "name": "python"
  }
 },
 "nbformat": 4,
 "nbformat_minor": 2
}
